{
 "cells": [
  {
   "cell_type": "code",
   "execution_count": null,
   "id": "3e681835",
   "metadata": {},
   "outputs": [],
   "source": [
    "import numpy as np\n",
    "import matplotlib.pyplot as plt\n",
    "from scipy.optimize import minimize\n",
    "\n",
    "# Objective function\n",
    "def objective(x):\n",
    "    return (x[0] - 2)**2 + (x[1] - 3)**2\n",
    "\n",
    "# Equality constraint: x^2 + y^2 = 10\n",
    "def constraint_eq(x):\n",
    "    return x[0]**2 + x[1]**2 - 10\n",
    "\n",
    "# Define constraint dictionary\n",
    "constraint = {'type': 'eq', 'fun': constraint_eq}\n",
    "\n",
    "# Initial guess\n",
    "x0 = [1, 1]\n",
    "\n",
    "# Solve the problem\n",
    "result = minimize(objective, x0, method='SLSQP', constraints=[constraint])\n",
    "\n",
    "# Output result\n",
    "print(\"Optimal point:\", result.x)\n",
    "print(\"Minimum value:\", result.fun)\n",
    "\n",
    "# --- Visualization ---\n",
    "\n",
    "# Plot constraint (circle x^2 + y^2 = 10)\n",
    "theta = np.linspace(0, 2 * np.pi, 300)\n",
    "circle_x = np.sqrt(10) * np.cos(theta)\n",
    "circle_y = np.sqrt(10) * np.sin(theta)\n",
    "plt.plot(circle_x, circle_y, 'r-', label='Constraint: $x^2 + y^2 = 10$')\n",
    "\n",
    "# Plot optimal point\n",
    "plt.plot(result.x[0], result.x[1], 'ro', label='Optimal Point')\n",
    "\n",
    "# Plot reference point (2, 3)\n",
    "plt.plot(2, 3, 'kx', label='Reference Point (2, 3)')\n",
    "\n",
    "# Labels\n",
    "plt.xlabel('x')\n",
    "plt.ylabel('y')\n",
    "plt.title('Constrained Minimization with Equality Constraint')\n",
    "plt.legend()\n",
    "plt.grid(True)\n",
    "plt.axis('equal')\n",
    "plt.show()\n"
   ]
  }
 ],
 "metadata": {
  "language_info": {
   "name": "python"
  }
 },
 "nbformat": 4,
 "nbformat_minor": 5
}
